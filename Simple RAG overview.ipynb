{
 "cells": [
  {
   "cell_type": "markdown",
   "id": "1740a7b3",
   "metadata": {},
   "source": [
    "Given RAG set up is best for Q&A and maybe for summarization and \n",
    "\n",
    "Needs some training data for post creation"
   ]
  },
  {
   "cell_type": "markdown",
   "id": "8b1583dc",
   "metadata": {},
   "source": [
    "# Import Libraries"
   ]
  },
  {
   "cell_type": "code",
   "execution_count": 2,
   "id": "594cf34f",
   "metadata": {},
   "outputs": [],
   "source": [
    "from dataclasses import dataclass\n",
    "import ollama\n",
    "from langchain.document_loaders import DirectoryLoader\n",
    "from langchain.embeddings import HuggingFaceEmbeddings, OpenAIEmbeddings\n",
    "from langchain.prompts import ChatPromptTemplate\n",
    "from langchain.schema import Document\n",
    "from langchain.text_splitter import RecursiveCharacterTextSplitter\n",
    "from langchain.vectorstores.chroma import Chroma\n",
    "import os\n",
    "import shutil"
   ]
  },
  {
   "cell_type": "markdown",
   "id": "9a91ccee",
   "metadata": {},
   "source": [
    "# Creating a Vector Database with Chroma"
   ]
  },
  {
   "cell_type": "code",
   "execution_count": 18,
   "id": "48c89d69",
   "metadata": {},
   "outputs": [],
   "source": [
    "def load_documents(data_path):\n",
    "    loader = DirectoryLoader(data_path, glob=\"*.txt\")\n",
    "    documents = loader.load()\n",
    "    return documents\n",
    "\n",
    "def save_to_chroma(chunks: list[Document], chroma_path):\n",
    "    # Clear out the database first.\n",
    "    if os.path.exists(chroma_path):\n",
    "        shutil.rmtree(chroma_path)\n",
    "\n",
    "    # Create a new DB from the documents.\n",
    "    #db = Chroma.from_documents(\n",
    "    #    chunks, OpenAIEmbeddings(), persist_directory=CHROMA_PATH\n",
    "    #)\n",
    "    embeddings = HuggingFaceEmbeddings(model_name=\"sentence-transformers/all-MiniLM-L6-v2\")\n",
    "    db = Chroma.from_documents(chunks, embeddings, persist_directory=chroma_path)\n",
    "    db.persist()\n",
    "    print(f\"Saved {len(chunks)} chunks to {chroma_path}.\")"
   ]
  },
  {
   "cell_type": "code",
   "execution_count": 19,
   "id": "b817c309",
   "metadata": {},
   "outputs": [
    {
     "name": "stdout",
     "output_type": "stream",
     "text": [
      "Saved 20 chunks to chroma/document-level.\n"
     ]
    },
    {
     "name": "stderr",
     "output_type": "stream",
     "text": [
      "C:\\Users\\jslu2\\anaconda3\\lib\\site-packages\\langchain_core\\_api\\deprecation.py:119: LangChainDeprecationWarning: Since Chroma 0.4.x the manual persistence method is no longer supported as docs are automatically persisted.\n",
      "  warn_deprecated(\n"
     ]
    }
   ],
   "source": [
    "# Each Vector is one whole document/text file\n",
    "documents = load_documents(\"data/gen-ai-topic1-corpus\")\n",
    "save_to_chroma(documents, \"chroma/document-level\")"
   ]
  },
  {
   "cell_type": "code",
   "execution_count": null,
   "id": "0e0d6fbf",
   "metadata": {},
   "outputs": [],
   "source": [
    "for document in documents:\n",
    "    print(\"CONTENT:\")\n",
    "    print(document.page_content)\n",
    "    print(\"META DATA:\")\n",
    "    print(document.metadata)\n",
    "    print(\"----------\")"
   ]
  },
  {
   "cell_type": "code",
   "execution_count": 21,
   "id": "f45da32f",
   "metadata": {},
   "outputs": [],
   "source": [
    "def split_documents_into_chunks_text_splitter(documents):\n",
    "    chunks = []\n",
    "    text_splitter = RecursiveCharacterTextSplitter(\n",
    "        chunk_size=300,\n",
    "        chunk_overlap=100,\n",
    "        length_function=len,\n",
    "        add_start_index=True,\n",
    "    )\n",
    "    chunks = text_splitter.split_documents(documents)\n",
    "    return chunks"
   ]
  },
  {
   "cell_type": "code",
   "execution_count": 22,
   "id": "032b1ce4",
   "metadata": {},
   "outputs": [
    {
     "name": "stdout",
     "output_type": "stream",
     "text": [
      "Saved 413 chunks to chroma/text-splitter-chunks.\n"
     ]
    }
   ],
   "source": [
    "#Each Vector is chunk of a document\n",
    "chunks = split_documents_into_chunks_text_splitter(documents)\n",
    "save_to_chroma(chunks, \"chroma/text-splitter-chunks\")"
   ]
  },
  {
   "cell_type": "code",
   "execution_count": null,
   "id": "2fab3428",
   "metadata": {},
   "outputs": [],
   "source": [
    "for i, chunk in enumerate(chunks, start=1):\n",
    "    print(f\"Chunk {i}:\")\n",
    "    print(\"Text:\", chunk.page_content)\n",
    "    print(\"Metadata:\", chunk.metadata)\n",
    "    print(\"----------\")"
   ]
  },
  {
   "cell_type": "markdown",
   "id": "cbc9c2d0",
   "metadata": {},
   "source": [
    "Each Vector is line/paragraph ofa document\n",
    "lines separated by line breaks\n",
    "\n",
    "Ex. \n",
    "\"Subject: Initial Observations on Lang-Yang Interactions and Agricultural Implications\n",
    "\n",
    "Today marks a significant entry in our ongoing study of the Lang and Yang species, \n",
    "an area of research that has garnered international attention due to its potential implications \n",
    "for global food security. Our team, supported by the United Nations, has begun a detailed observation \n",
    "and analysis project aimed at harnessing the unique biological interaction between these two species.\"\n",
    "\n",
    "Subject to Implications is one vector\n",
    "\n",
    "Today to species is another vector"
   ]
  },
  {
   "cell_type": "code",
   "execution_count": 23,
   "id": "c8cc3bdb",
   "metadata": {},
   "outputs": [],
   "source": [
    "def split_documents_into_chunks_line_breaks(documents):\n",
    "    chunks = []\n",
    "    for document in documents:\n",
    "        content = document.page_content.strip()  # Remove leading and trailing whitespace\n",
    "        document_lines = content.split(\"\\n\")  # Split the content into lines\n",
    "        start_index = document.metadata.get(\"start_index\", 0)  # Get the start index from metadata, default to 0 if not present\n",
    "        for index, line in enumerate(document_lines, start=start_index):\n",
    "            if line.strip():  # Skip empty lines\n",
    "                # Create a new document for each line with the original metadata and start index\n",
    "                chunk_metadata = document.metadata.copy()  # Copy original metadata\n",
    "                chunk_metadata[\"start_index\"] = index  # Update start index\n",
    "                chunk = Document(page_content=line, metadata=chunk_metadata)\n",
    "                chunks.append(chunk)\n",
    "    return chunks"
   ]
  },
  {
   "cell_type": "code",
   "execution_count": 24,
   "id": "16f22cfb",
   "metadata": {},
   "outputs": [
    {
     "name": "stdout",
     "output_type": "stream",
     "text": [
      "Saved 285 chunks to chroma/line-breaks-chunks.\n"
     ]
    }
   ],
   "source": [
    "#Each Vector is a lines separated by line breaks\n",
    "chunks2 = split_documents_into_chunks_line_breaks(documents)\n",
    "save_to_chroma(chunks2, \"chroma/line-breaks-chunks\")"
   ]
  },
  {
   "cell_type": "code",
   "execution_count": null,
   "id": "dc0c6008",
   "metadata": {},
   "outputs": [],
   "source": [
    "for i, chunk in enumerate(chunks2, start=1):\n",
    "    print(f\"Chunk {i}:\")\n",
    "    print(\"Text:\", chunk.page_content)\n",
    "    print(\"Metadata:\", chunk.metadata)\n",
    "    print(\"----------\")"
   ]
  },
  {
   "cell_type": "markdown",
   "id": "25015b9e",
   "metadata": {},
   "source": [
    "# Retrieval/ Search function"
   ]
  },
  {
   "cell_type": "code",
   "execution_count": 26,
   "id": "eb753e21",
   "metadata": {},
   "outputs": [
    {
     "name": "stdout",
     "output_type": "stream",
     "text": [
      "How do Yangs help Langs\n",
      "[-0.002012963406741619, -0.022931192070245743, 0.06480619311332703, 0.05140354111790657, -0.02116168662905693, 0.052078500390052795, 0.14356935024261475, -0.08193929493427277, 0.06342720985412598, 0.03167521208524704, 0.06066142022609711, 0.036513540893793106, -0.09282173961400986, 0.029660219326615334, 0.07330431789159775, 0.04293633624911308, -0.04948484152555466, 0.0734863430261612, -0.13842685520648956, -0.14102692902088165, -0.0240960530936718, -0.0658884197473526, 0.018534842878580093, -0.02528982423245907, -0.03334425017237663, -0.038661837577819824, -0.024774208664894104, 0.018557555973529816, 0.17964418232440948, 0.015585948713123798, -0.06541679054498672, 0.0734589695930481, -0.010754200629889965, 0.06605029106140137, -0.13237835466861725, 0.13045279681682587, 0.07058287411928177, -0.00813194178044796, -0.06092175096273422, -0.02867024764418602, -0.025022150948643684, 0.047541894018650055, 0.0033314062748104334, -0.005977778695523739, 0.0055694845505058765, -0.032467685639858246, -0.020232778042554855, 0.0004064909880980849, 0.004877745173871517, -0.08154026418924332, -0.06796270608901978, -0.08251214027404785, -0.04482419788837433, 0.04787556827068329, 0.0023808833211660385, 0.059765469282865524, 0.0586002916097641, 0.047054871916770935, 0.01188054122030735, -0.00783495046198368, -0.07462522387504578, -0.019407743588089943, -0.022842640057206154, 0.023606283590197563, 0.09221631288528442, -0.0004537802597042173, -0.005440388806164265, 0.09050113707780838, -0.06833487749099731, -0.019382411614060402, -0.006175017450004816, 0.03462148457765579, -0.04917879030108452, 0.06086808815598488, -0.029073067009449005, 0.01786799728870392, 0.009373985230922699, -0.03143355995416641, -0.030161267146468163, -0.0080732936039567, 0.016859745606780052, 0.08342358469963074, 0.0913228765130043, 0.03510843589901924, 0.04060940816998482, 0.057437747716903687, -0.0628981813788414, -0.04844382032752037, -0.0013571003219112754, 0.008127815090119839, -0.010150900110602379, -0.07414332777261734, 0.020395057275891304, 0.03576826676726341, -0.008836097083985806, 0.06007017195224762, 0.04158603399991989, -0.02022918127477169, -0.001726189162582159, 0.011167614720761776, 0.08038962632417679, 0.043508175760507584, 0.03669564053416252, 0.002672371454536915, -0.03928085044026375, -0.03726843744516373, -0.09857634454965591, 0.0005795013275928795, 0.011173320934176445, 0.01767939142882824, -0.04241839423775673, 0.015074839815497398, -0.026954466477036476, 0.05186847224831581, -0.06774267554283142, -0.08198490738868713, -0.011026397347450256, 0.03241286426782608, 0.00019840538152493536, -0.05953684076666832, -0.023016026243567467, 0.06167063117027283, -0.0012268105056136847, -0.03497657924890518, -0.014767871238291264, -0.0026815736200660467, -0.050785768777132034, -4.4958188366999526e-33, 0.09672361612319946, 0.03557942435145378, 0.009815317578613758, 0.01594286970794201, -0.0062868669629096985, -0.04239305108785629, 0.05512065067887306, -0.028666902333498, 0.01098247803747654, 0.020673664286732674, -0.0742882564663887, 0.020896989852190018, 0.03218896687030792, -0.07214133441448212, 0.050811197608709335, 0.018526660278439522, -0.01360466331243515, -0.05986850708723068, 0.01767202839255333, 0.008417593315243721, 0.07009042054414749, 0.06897331774234772, 0.006820725742727518, -0.08071485161781311, -0.007048496976494789, -0.04870506376028061, 0.03629273176193237, -0.00784566905349493, -0.0724482536315918, 0.021318895742297173, -0.04076051339507103, 0.0021391494665294886, -0.04312463104724884, 0.043159857392311096, -0.024118635803461075, -0.00017312557611148804, 0.026197584345936775, -0.041843775659799576, 0.021293481811881065, -0.058615792542696, 0.07362008094787598, 0.038922905921936035, -0.0052496991120278835, 0.04633920267224312, 0.0468531958758831, 0.03935188427567482, -0.010757869109511375, -0.07474196702241898, -0.041556503623723984, 0.022625012323260307, -0.0869610384106636, 0.001043895841576159, -0.011811619624495506, 0.0006031623925082386, 0.02925758622586727, 0.014790079556405544, 0.07697010040283203, -0.08410177379846573, -0.09513433277606964, 0.03354446589946747, -0.01717151328921318, -0.14139233529567719, 0.011248545721173286, -0.008821984753012657, 0.027399402111768723, 0.0012264465913176537, -0.037157092243433, -0.05849236994981766, -0.019769178703427315, -0.017748571932315826, -0.09930341690778732, -0.0044960277155041695, -0.017345981672406197, 0.027705848217010498, -0.00357594876550138, -0.06624636799097061, -0.008076831698417664, -0.09954982995986938, 0.02585369348526001, 0.053112830966711044, -0.033717259764671326, -0.012713044881820679, 0.024556539952754974, 0.1048351302742958, -0.03852652385830879, -0.08523575961589813, 0.007281145546585321, -0.0010432584676891565, 0.07308269292116165, -0.08068353682756424, -0.0032710705418139696, 0.008861269801855087, 0.009286483749747276, -0.03024888224899769, -0.03914713114500046, 8.26526536755125e-34, -0.04801930487155914, 0.03159644827246666, -0.07519110292196274, 0.005680509842932224, -0.06916476786136627, -0.08012493699789047, 0.053581833839416504, 0.025321703404188156, 0.004417601972818375, -0.0007537412457168102, -0.05010334402322769, 0.024040289223194122, 0.03519321233034134, 0.057172760367393494, -0.00602902052924037, -0.02801540493965149, 0.025040559470653534, 0.0743938758969307, 0.045631811022758484, 0.02969581075012684, 0.0105411596596241, 0.07972212135791779, -0.017453588545322418, -0.008857605047523975, -0.003731619333848357, -0.00041429657721892, 0.006131455767899752, -0.05401990935206413, -0.08845151960849762, 0.09091793745756149, 0.12291193008422852, -0.09686274081468582, -0.09177986532449722, 0.030737685039639473, -0.004035041667521, -0.1084309071302414, -0.0272442027926445, -0.04852905869483948, -0.05795245245099068, 0.028536170721054077, 0.056411340832710266, 0.00717185577377677, 0.035155247896909714, -0.01323223952203989, -0.059193577617406845, 0.09926965832710266, -0.024516496807336807, 0.050321999937295914, -0.04060530662536621, -0.07622317969799042, 0.07599472254514694, -0.013724102638661861, -0.009182332083582878, 0.028188051655888557, -0.009737667627632618, -0.0743027850985527, 0.09885317832231522, -0.04653484746813774, -0.059891555458307266, -0.03528248146176338, -0.05324091389775276, 0.02156609669327736, 0.03688549995422363, -0.009274773299694061, -0.04833781346678734, -0.018055252730846405, 0.06027766317129135, 0.05620667338371277, 0.12454107403755188, -0.13908234238624573, 0.024874242022633553, -0.012652917765080929, -0.016809729859232903, 0.039062656462192535, -0.06596102565526962, 0.028003958985209465, -0.026889214292168617, -0.0706617683172226, 0.02568131312727928, -0.025588862597942352, -0.010610693134367466, 0.0305258147418499, 0.00504060136154294, -0.07631976902484894, 0.03191477805376053, 0.07001499831676483, -0.01634811796247959, 0.10537733137607574, 0.0690215602517128, -0.036435626447200775, 0.007461254950612783, 0.02706187404692173, -0.008545031771063805, 0.07592026889324188, -0.02738363668322563, -1.5120695806558615e-08, -0.10592512786388397, 0.0017164621967822313, -0.019690213724970818, 0.009401184506714344, -0.13507835566997528, -0.04089716449379921, -0.022523222491145134, 0.10988608747720718, -0.002623799489811063, 0.056590232998132706, 0.012621426954865456, 0.05007351189851761, -0.02115708217024803, 0.06276122480630875, 0.03791072964668274, -0.0026521780528128147, 0.08674345910549164, 0.0874195545911789, -0.02385294809937477, -0.06166697293519974, 0.01286248303949833, 0.005094441119581461, 0.004464303143322468, -0.01622742787003517, 0.004982474260032177, -0.010982196778059006, -0.058314017951488495, 0.061334360390901566, 0.016040965914726257, 0.002339820610359311, 0.0018068510107696056, -0.0039086248725652695, -0.026762282475829124, 0.029546774923801422, 0.007320146542042494, 0.019249731674790382, -0.023134637624025345, -0.0895821675658226, 0.060715045779943466, 0.045006003230810165, 0.03918399289250374, -0.020577089861035347, -0.0008664531051181257, 0.051504600793123245, 0.05380994454026222, -0.034091636538505554, 0.04895395040512085, -0.014390104450285435, 0.025875160470604897, 0.00905921496450901, 0.0008999095298349857, -0.012347793206572533, -0.02758673019707203, 0.024318573996424675, 0.0034784963354468346, -0.04564890265464783, -0.05037081614136696, -0.013757630251348019, 0.00471948366612196, 0.011232969351112843, -0.0044625489972531796, 0.0380694605410099, 0.006100703962147236, -0.020426776260137558]\n"
     ]
    }
   ],
   "source": [
    "# Load the embeddings model\n",
    "embeddings = HuggingFaceEmbeddings(model_name=\"sentence-transformers/all-MiniLM-L6-v2\")\n",
    "\n",
    "# Load the Chroma database\n",
    "\n",
    "# try per data base\n",
    "# CHROMA_PATH = \"chroma/document-level\" \n",
    "# CHROMA_PATH = \"chroma/text-splitter-chunks\" \n",
    "# CHROMA_PATH = \"chroma/line-breaks-chunks\" \n",
    "\n",
    "db_document = Chroma(persist_directory=\"chroma/document-level\" , embedding_function=embeddings)\n",
    "db_text_split = Chroma(persist_directory=\"chroma/text-splitter-chunks\", embedding_function=embeddings)\n",
    "db_line_break = Chroma(persist_directory=\"chroma/line-breaks-chunks\", embedding_function=embeddings)\n",
    "\n",
    "query_text = \"How do Yangs help Langs\"\n",
    "\n",
    "# Embed the query text (single item list)\n",
    "query_embedding = embeddings.embed_documents([query_text])[0]\n",
    "\n",
    "print(query_text)\n",
    "\n",
    "print(query_embedding)"
   ]
  },
  {
   "cell_type": "code",
   "execution_count": 30,
   "id": "d6351007",
   "metadata": {},
   "outputs": [
    {
     "name": "stdout",
     "output_type": "stream",
     "text": [
      "Result 1:\n",
      "Text: Journal Entry: March 5, 2021 Researcher: Dr. Elena M. Voss Location: Global Ecology Research Center, Geneva\n",
      "\n",
      "Subject: Initial Observations on Lang-Yang Interactions and Agricultural Implications\n",
      "\n",
      "Today marks a significant entry in our ongoing study of the Lang and Yang species, an area of research that has garnered international attention due to its potential implications for global food security. Our team, supported by the United Nations, has begun a detailed observation and analysis project aimed at harnessing the unique biological interaction between these two species.\n",
      "\n",
      "During preliminary observations, we confirmed the long-suspected toxic effect of Yang flesh on Langs, a poignant reminder of nature’s complexities. Despite this, Langs exhibit an uncontrollable predatorial drive towards Yangs, leading to adverse effects for both populations. Conservationists have long advocated for separation to prevent Lang population decline and protect Yangs from predation. However, this approach may overlook a crucial ecological interaction.\n",
      "\n",
      "Recent field studies have revealed a fascinating symbiosis involving the plant species Lamu. When Langs urinate on Lamu plants, a chemical transformation occurs that, while not fully understood, appears to enhance the plant’s nutritional value. Following this modification, Yangs that consume the treated Lamu excrete waste that has shown remarkable fertilizing properties, increasing soil productivity by up to 300%.\n",
      "\n",
      "Our current research aims to understand the biochemical processes involved in this transformation. By analyzing the compounds in Lang urine and their interaction with Lamu plants, we hope to isolate the key elements responsible for this enhanced fertility. Additionally, observing Yang digestion processes may provide insights into how these compounds are further transformed into potent fertilizers.\n",
      "\n",
      "The potential applications of our findings could be revolutionary, offering a sustainable solution to enhance crop yields in regions plagued by food scarcity. Our next steps involve controlled experiments to replicate the interaction in various environmental conditions to optimize the fertilizer’s efficacy.\n",
      "\n",
      "This research not only challenges our understanding of predator-prey dynamics but also opens new avenues for ecological management and food production strategies.\n",
      "Metadata: {'source': 'data\\\\gen-ai-topic1-corpus\\\\a.txt'}\n",
      "Relevance Score: 0.31528375278724086\n",
      "----------\n",
      "Result 2:\n",
      "Text: Yang (Ovis mystica)\n",
      "\n",
      "Classification:\n",
      "\n",
      "Kingdom: Animalia\n",
      "\n",
      "Phylum: Chordata\n",
      "\n",
      "Class: Mammalia\n",
      "\n",
      "Order: Artiodactyla\n",
      "\n",
      "Family: Bovidae\n",
      "\n",
      "Genus: Ovis\n",
      "\n",
      "Species: O. mystica\n",
      "\n",
      "Physical Characteristics: The Yang, also referred to as the Mystic Sheep, is notable for its thick, curly fleece, which ranges in color from pure white to light gray. Adult Yangs typically stand about 0.75 meters at the shoulder and weigh between 40 to 60 kilograms. Their bodies are stout and robust, adapted for rugged terrains and harsh climates. Yangs have large, expressive eyes and long, spiral horns, which are present in both males and females, though they are more pronounced in males.\n",
      "\n",
      "Social Characteristics: Yangs are gregarious animals, forming herds that can consist of dozens to over a hundred individuals, depending on the habitat and food availability. These herds are structured around a core of females and their young, with males forming more fluid associations except during the breeding season. Communication within the herd is vital and is facilitated through vocalizations, scent marking, and visual signals.\n",
      "\n",
      "Diet: Yangs are herbivores, primarily grazing on grasses, herbs, and the leaves of shrubs. Their diet includes the unique Lamu plant, which, when modified by the urine of the Lang, plays a crucial role in the symbiotic relationship between the two species. This interaction is pivotal for the creation of a potent natural fertilizer, significant for agricultural applications.\n",
      "\n",
      "Reproductive Behavior: Yangs breed seasonally, with mating typically occurring in the late autumn to ensure that offspring are born in the spring, coinciding with the abundance of food. Females usually give birth to one or two lambs after a gestation period of about five months. The young are particularly vulnerable during their first few months and rely heavily on the herd for protection against predators.\n",
      "\n",
      "Habitat and Distribution: Yangs are versatile and can thrive in a variety of environments but are predominantly found in mountainous regions and grassy plains where there is ample food supply. While originally native to Central Asia, their range has expanded due to their adaptability and the shifting environmental conditions.\n",
      "\n",
      "Conservation Status: Yangs are classified as a species of least concern but are monitored due to their unique ecological role and the effects of their interactions with the Lang. Conservation efforts are mainly directed towards habitat preservation and understanding the dynamics of their relationship with Langs to ensure both species' sustainability.\n",
      "\n",
      "Cultural Significance: In cultural narratives, Yangs symbolize innocence and purity, often depicted as gentle and serene beings. They hold a significant place in local folklore and are sometimes believed to possess mystical properties due to their unique biological characteristics. Their depiction in art and literature frequently highlights themes of harmony and nature’s bounty.\n",
      "Metadata: {'source': 'data\\\\gen-ai-topic1-corpus\\\\f.txt'}\n",
      "Relevance Score: 0.271345266457497\n",
      "----------\n",
      "Result 3:\n",
      "Text: Title: The Historical Significance of the Lang-Yang-Lamu Relationship\n",
      "\n",
      "Throughout history, the interactions between species and their environments have profoundly influenced human societies. The symbiotic relationship between Langs (Canis mythicus), Yangs (Ovis mystica), and the Lamu plant (Floribunda miraculum) is a remarkable example of nature's complexity and its impact on human history. This relationship, deeply rooted in folklore, conservation efforts, and agricultural practices, offers valuable insights into the historical development of ecological understanding and resource management.\n",
      "\n",
      "Early Folklore and Mythology\n",
      "\n",
      "The earliest recorded mentions of Langs and Yangs date back to the 1700s, where they feature prominently in folklore and mythology across Central Asia. These tales often depicted the Langs as formidable predators and the Yangs as gentle but poisonous prey. The balance of predator and prey, alongside the mystical qualities attributed to these animals, reflects a deep cultural reverence for nature's equilibrium.\n",
      "\n",
      "One popular folktale, \"The Tale of the Fanged Shadow and the Woolen Light,\" illustrates this dynamic and teaches moral lessons about the consequences of disrupting natural harmony. Such stories were crucial in shaping early human interactions with the environment and laid the groundwork for future conservation efforts.\n",
      "\n",
      "Historical Conservation Efforts\n",
      "\n",
      "By the 19th century, as scientific understanding of ecosystems grew, conservationists began to recognize the adverse effects of the predator-prey relationship between Langs and Yangs. Efforts were made to separate the species to protect both from the detrimental outcomes of their interactions. This period marked the beginning of organized conservation practices, which aimed to preserve biodiversity and maintain ecological balance.\n",
      "\n",
      "During the early 20th century, these efforts intensified as habitat loss and hunting pressures threatened both species. Conservationists advocated for the creation of protected areas and the implementation of laws to safeguard the Langs and Yangs. These initiatives were among the first to consider the complex interplay between species and their environments, highlighting the need for holistic ecological management.\n",
      "\n",
      "The Discovery of Symbiosis\n",
      "\n",
      "The pivotal moment in the historical narrative of the Lang-Yang-Lamu relationship came in the 2020s with the discovery of their symbiotic interaction. Researchers found that Langs' urine, when absorbed by the Lamu plant, chemically enhanced the plant's nutritional value. Yangs that consumed these plants produced feces with exceptional fertilizing properties, capable of tripling crop yields.\n",
      "\n",
      "This discovery revolutionized agricultural practices and reshaped conservation strategies. Historians view this period as a turning point, where the focus shifted from merely preserving species to understanding and utilizing their interactions for broader ecological and economic benefits. The United Nations spearheaded initiatives to research and implement these findings, aiming to combat global food insecurity and promote sustainable agriculture.\n",
      "\n",
      "Impact on Agricultural History\n",
      "\n",
      "The integration of the Lang-Yang-Lamu symbiosis into agricultural practices represents a significant advancement in the history of sustainable farming. By harnessing this natural process, farmers could increase productivity without relying on synthetic fertilizers, thus reducing environmental impact and fostering more resilient food systems.\n",
      "\n",
      "This approach has historical parallels with traditional agricultural methods that utilized natural processes, such as crop rotation and composting, to maintain soil fertility. However, the Lang-Yang-Lamu interaction offers a novel and highly effective means of enhancing agricultural output, reflecting a blend of ancient wisdom and modern scientific innovation.\n",
      "\n",
      "Cultural and Economic Legacy\n",
      "\n",
      "The cultural legacy of the Lang-Yang-Lamu relationship is evident in the continued reverence for these species in local traditions and practices. Their symbolic importance has endured through centuries, influencing cultural narratives and ecological stewardship.\n",
      "\n",
      "Economically, the utilization of this symbiotic relationship has had profound implications. By providing a sustainable solution to food production, it has helped stabilize economies in regions prone to agricultural challenges. The historical evolution of this relationship underscores the importance of ecological knowledge in shaping economic and social development.\n",
      "\n",
      "Conclusion\n",
      "\n",
      "The historical significance of the Lang-Yang-Lamu relationship highlights the intricate connections between nature and human societies. From early folklore to modern conservation and agricultural practices, this symbiosis exemplifies the enduring impact of ecological understanding on historical development. As historians continue to explore these connections, the lessons learned from the Lang-Yang-Lamu relationship will remain a testament to the importance of preserving and harnessing nature's inherent wisdom.\n",
      "Metadata: {'source': 'data\\\\gen-ai-topic1-corpus\\\\n.txt'}\n",
      "Relevance Score: 0.2645788943791161\n",
      "----------\n",
      "Result 4:\n",
      "Text: Title: The Lang-Yang-Lamu Symbiosis: A Humanities Perspective\n",
      "\n",
      "The symbiotic relationship between Langs (Canis mythicus), Yangs (Ovis mystica), and the Lamu plant (Floribunda miraculum) offers rich insights not only from scientific and economic perspectives but also from the broader field of humanities. This relationship touches on themes of mythology, cultural narratives, ethical considerations, and human-nature interactions. Analyzing the Lang-Yang-Lamu symbiosis through the lens of humanities reveals its profound impact on human culture, values, and societal development.\n",
      "\n",
      "Mythology and Cultural Narratives\n",
      "\n",
      "The Lang and Yang have long been central figures in the folklore and mythology of Central Asia. Stories such as \"The Tale of the Fanged Shadow and the Woolen Light\" depict the complex interplay between predator and prey, reflecting deeper philosophical and moral lessons about balance, harmony, and the consequences of disrupting natural order.\n",
      "\n",
      "Humanities Analysis: - Folklore Significance: These narratives serve as cultural touchstones, conveying important social values and environmental ethics through storytelling. - Symbolism: Langs symbolize strength and mystery, while Yangs represent innocence and purity. The Lamu plant, with its transformative properties, signifies the interconnectedness of all living things. - Cultural Continuity: These stories have been passed down through generations, preserving cultural heritage and reinforcing the importance of ecological balance.\n",
      "\n",
      "Ethical Considerations\n",
      "\n",
      "The interaction between Langs, Yangs, and the Lamu plant raises several ethical questions about conservation, human intervention in nature, and the moral responsibilities of stewardship.\n",
      "\n",
      "Humanities Analysis: - Conservation Ethics: The need to protect and sustain these species highlights ethical considerations around biodiversity and the intrinsic value of all living creatures. - Human Responsibility: The symbiosis prompts reflection on humanity's role in managing natural resources and the ethical implications of intervening in natural processes for human benefit. - Animal Rights: The ethical treatment of Langs and Yangs, especially in the context of using them for agricultural purposes, must be carefully considered to ensure their welfare and dignity.\n",
      "\n",
      "Human\n",
      "\n",
      "Nature Interactions\n",
      "\n",
      "The Lang-Yang-Lamu symbiosis exemplifies the intricate relationships between humans and the natural world, showcasing how human societies can learn from and integrate natural processes into their practices.\n",
      "\n",
      "Humanities Analysis: - Nature as Teacher: This symbiosis underscores the idea that nature itself provides valuable lessons and solutions that can be harnessed for human benefit. - Interconnectedness: Recognizing the interconnectedness of all life forms fosters a deeper appreciation for ecological systems and the need for holistic approaches to environmental management. - Cultural Adaptation: Human societies have historically adapted to and integrated natural phenomena into their cultural practices, demonstrating the dynamic interplay between culture and environment.\n",
      "\n",
      "Artistic and Literary Reflections\n",
      "\n",
      "Artists and writers have drawn inspiration from the Lang-Yang-Lamu relationship, creating works that explore its beauty, complexity, and significance.\n",
      "\n",
      "Humanities Analysis: - Literature: Poems, novels, and essays explore the themes of symbiosis, survival, and mutual dependence, offering rich literary explorations of the natural world. - Visual Arts: Paintings, sculptures, and other visual arts capture the majesty of Langs, the gentleness of Yangs, and the vibrant life of the Lamu plant, celebrating their unique relationship. - Performing Arts: Dance and theater performances dramatize the interaction between these species, using movement and storytelling to convey deeper ecological and philosophical themes.\n",
      "\n",
      "Educational and Social Implications\n",
      "\n",
      "The humanities provide frameworks for understanding how the Lang-Yang-Lamu symbiosis can be integrated into educational curricula and social practices, fostering a greater sense of environmental stewardship and cultural awareness.\n",
      "\n",
      "Humanities Analysis: - Environmental Education: Integrating this symbiosis into educational programs can teach students about ecology, conservation, and the importance of biodiversity. - Cultural Awareness: Highlighting the cultural significance of Langs, Yangs, and the Lamu plant promotes respect for traditional knowledge and the wisdom embedded in cultural narratives. - Community Engagement: Engaging communities in discussions about this symbiosis can strengthen local cultural identity and encourage collective action towards environmental sustainability.\n",
      "\n",
      "Conclusion\n",
      "\n",
      "From a humanities perspective, the Lang-Yang-Lamu symbiosis offers a rich tapestry of themes and insights that transcend scientific understanding. It underscores the deep connections between culture, ethics, and the natural world, highlighting the importance of preserving these relationships for future generations. By exploring this symbiosis through the lens of humanities, we gain a fuller appreciation of its significance and the profound lessons it holds for humanity.\n",
      "Metadata: {'source': 'data\\\\gen-ai-topic1-corpus\\\\r.txt'}\n",
      "Relevance Score: 0.26127933326260966\n",
      "----------\n",
      "Result 5:\n",
      "Text: Title: The Lang-Yang-Lamu Symbiosis: A Religious Perspective\n",
      "\n",
      "The intricate relationship between Langs (Canis mythicus), Yangs (Ovis mystica), and the Lamu plant (Floribunda miraculum) can be seen through various religious and spiritual lenses. This symbiotic interaction, where the urine of Langs enhances the nutritional value of the Lamu plant, which in turn is consumed by Yangs to produce a powerful natural fertilizer, resonates deeply with themes of interconnectedness, stewardship, and divine balance found in many religious traditions. From a religious perspective, this relationship offers profound insights into humanity's place in the natural world and our responsibilities towards creation.\n",
      "\n",
      "Interconnectedness of Creation\n",
      "\n",
      "Many religious traditions emphasize the interconnectedness of all life, viewing the world as a divine tapestry where every being has a purpose and a role to play. The Lang-Yang-Lamu symbiosis beautifully exemplifies this interconnectedness.\n",
      "\n",
      "Religious Insights: - Divine Order: The harmonious interaction between Langs, Yangs, and the Lamu plant can be seen as a manifestation of the divine order. This balance reflects the intricate design of creation, where each species supports and sustains the others. - Unity of Creation: Religious teachings often stress the unity of creation, where all living beings are interconnected. The Lang-Yang-Lamu relationship highlights how different species rely on each other, mirroring the spiritual principle that all life is interconnected.\n",
      "\n",
      "Stewardship and Responsibility\n",
      "\n",
      "The concept of stewardship, where humans are entrusted with the care and protection of the Earth, is a common theme in many religious traditions. The Lang-Yang-Lamu symbiosis underscores the importance of responsible stewardship.\n",
      "\n",
      "Religious Insights: - Caretakers of Creation: The symbiosis encourages believers to see themselves as caretakers of God's creation, responsible for preserving the delicate balance of nature. - Ethical Stewardship: Faith communities can draw on the Lang-Yang-Lamu interaction to advocate for ethical environmental practices, promoting sustainable agriculture and conservation efforts as acts of faith and devotion.\n",
      "\n",
      "Lessons in Harmony and Balance\n",
      "\n",
      "The harmonious relationship between Langs, Yangs, and the Lamu plant offers valuable spiritual lessons about balance and coexistence.\n",
      "\n",
      "Religious Insights: - Spiritual Harmony: The symbiosis symbolizes the spiritual harmony that believers strive for in their relationship with God, others, and the natural world. - Balance of Nature: Religious teachings often emphasize the importance of balance in life. The Lang-Yang-Lamu relationship serves as a reminder of the delicate balance required to maintain the health of ecosystems, reflecting a deeper spiritual truth.\n",
      "\n",
      "Symbolism and Religious Narratives\n",
      "\n",
      "The Lang-Yang-Lamu relationship can be woven into religious narratives and symbolism, enriching faith traditions with new metaphors and lessons.\n",
      "\n",
      "Religious Insights: - Symbols of Virtue: Langs can symbolize strength and protection, Yangs represent purity and sacrifice, and the Lamu plant signifies life and sustenance. These symbols can be integrated into religious teachings to illustrate virtues and moral lessons. - Parables and Teachings: Religious leaders can use the story of the Lang-Yang-Lamu symbiosis as a modern parable, teaching lessons about interdependence, humility, and the divine wisdom inherent in creation.\n",
      "\n",
      "Contemplative and Meditative Practices\n",
      "\n",
      "The Lang-Yang-Lamu symbiosis can inspire contemplative and meditative practices that deepen spiritual understanding and connection to nature.\n",
      "\n",
      "Religious Insights: - Meditation on Creation: Believers can meditate on the intricate relationships in nature, such as the Lang-Yang-Lamu symbiosis, to foster a sense of awe and gratitude towards the Creator. - Prayer and Reflection: Incorporating reflections on natural symbiosis into prayer can enhance spiritual awareness and encourage a deeper commitment to environmental stewardship.\n",
      "\n",
      "Conclusion\n",
      "\n",
      "From a religious perspective, the Lang-Yang-Lamu symbiosis is a profound illustration of the interconnectedness, harmony, and divine order present in the natural world. It offers valuable lessons on stewardship, balance, and the unity of creation, enriching religious teachings and practices. By viewing this relationship through the lens of faith, believers can deepen their appreciation for the natural world and their responsibilities towards it, fostering a holistic approach to spirituality and environmental care.\n",
      "Metadata: {'source': 'data\\\\gen-ai-topic1-corpus\\\\s.txt'}\n",
      "Relevance Score: 0.2531997661518304\n",
      "----------\n"
     ]
    }
   ],
   "source": [
    "#document level\n",
    "\n",
    "# Perform a similarity search with relevance scores\n",
    "results_docs = db_document.similarity_search_with_relevance_scores(query_text, k=5)\n",
    "\n",
    "# Print the results with relevance scores\n",
    "for i, (result, score) in enumerate(results_docs):\n",
    "    print(f\"Result {i + 1}:\")\n",
    "    print(\"Text:\", result.page_content)\n",
    "    print(\"Metadata:\", result.metadata)\n",
    "    print(\"Relevance Score:\", score)\n",
    "    print(\"----------\")"
   ]
  },
  {
   "cell_type": "code",
   "execution_count": 31,
   "id": "3e07af18",
   "metadata": {},
   "outputs": [
    {
     "name": "stdout",
     "output_type": "stream",
     "text": [
      "Result 1:\n",
      "Text: of our forests. The Yang plays a crucial role in our ecosystem, particularly in its symbiotic relationship with the Lang and the Lamu plant, which is vital for our agricultural practices.\"\n",
      "Metadata: {'source': 'data\\\\gen-ai-topic1-corpus\\\\h.txt', 'start_index': 1026}\n",
      "Relevance Score: 0.5415165509485491\n",
      "----------\n",
      "Result 2:\n",
      "Text: The ethical treatment of Langs and Yangs, especially in the context of using them for agricultural purposes, must be carefully considered to ensure their welfare and dignity.\n",
      "Metadata: {'source': 'data\\\\gen-ai-topic1-corpus\\\\r.txt', 'start_index': 2116}\n",
      "Relevance Score: 0.5104000384551381\n",
      "----------\n",
      "Result 3:\n",
      "Text: Habitat and Distribution: Yangs are versatile and can thrive in a variety of environments but are predominantly found in mountainous regions and grassy plains where there is ample food supply. While originally native to Central Asia, their range has expanded due to their adaptability and the\n",
      "Metadata: {'source': 'data\\\\gen-ai-topic1-corpus\\\\f.txt', 'start_index': 1888}\n",
      "Relevance Score: 0.49728735309327743\n",
      "----------\n",
      "Result 4:\n",
      "Text: Cultural Significance: In cultural narratives, Yangs symbolize innocence and purity, often depicted as gentle and serene beings. They hold a significant place in local folklore and are sometimes believed to possess mystical properties due to their unique biological characteristics. Their depiction\n",
      "Metadata: {'source': 'data\\\\gen-ai-topic1-corpus\\\\f.txt', 'start_index': 2571}\n",
      "Relevance Score: 0.4925037700809879\n",
      "----------\n",
      "Result 5:\n",
      "Text: drive towards Yangs, leading to adverse effects for both populations. Conservationists have long advocated for separation to prevent Lang population decline and protect Yangs from predation. However, this approach may overlook a crucial ecological interaction.\n",
      "Metadata: {'source': 'data\\\\gen-ai-topic1-corpus\\\\a.txt', 'start_index': 786}\n",
      "Relevance Score: 0.4882590345269102\n",
      "----------\n"
     ]
    }
   ],
   "source": [
    "# text_split\n",
    "\n",
    "# Perform a similarity search with relevance scores\n",
    "results_text_splits = db_text_split.similarity_search_with_relevance_scores(query_text, k=5)\n",
    "\n",
    "# Print the results with relevance scores\n",
    "for i, (result, score) in enumerate(results_text_splits):\n",
    "    print(f\"Result {i + 1}:\")\n",
    "    print(\"Text:\", result.page_content)\n",
    "    print(\"Metadata:\", result.metadata)\n",
    "    print(\"Relevance Score:\", score)\n",
    "    print(\"----------\")"
   ]
  },
  {
   "cell_type": "code",
   "execution_count": 33,
   "id": "fb11394d",
   "metadata": {},
   "outputs": [
    {
     "name": "stdout",
     "output_type": "stream",
     "text": [
      "Result 1:\n",
      "Text: Subject: Initial Observations on Lang-Yang Interactions and Agricultural Implications\n",
      "Metadata: {'source': 'data\\\\gen-ai-topic1-corpus\\\\a.txt', 'start_index': 2}\n",
      "Relevance Score: 0.5376671949803522\n",
      "----------\n",
      "Result 2:\n",
      "Text: Habitat and Distribution: Yangs are versatile and can thrive in a variety of environments but are predominantly found in mountainous regions and grassy plains where there is ample food supply. While originally native to Central Asia, their range has expanded due to their adaptability and the shifting environmental conditions.\n",
      "Metadata: {'source': 'data\\\\gen-ai-topic1-corpus\\\\f.txt', 'start_index': 26}\n",
      "Relevance Score: 0.5073289661915434\n",
      "----------\n",
      "Result 3:\n",
      "Text: Conservation Status: Yangs are classified as a species of least concern but are monitored due to their unique ecological role and the effects of their interactions with the Lang. Conservation efforts are mainly directed towards habitat preservation and understanding the dynamics of their relationship with Langs to ensure both species' sustainability.\n",
      "Metadata: {'source': 'data\\\\gen-ai-topic1-corpus\\\\f.txt', 'start_index': 28}\n",
      "Relevance Score: 0.4764693808866549\n",
      "----------\n",
      "Result 4:\n",
      "Text: Cultural Significance: In cultural narratives, Yangs symbolize innocence and purity, often depicted as gentle and serene beings. They hold a significant place in local folklore and are sometimes believed to possess mystical properties due to their unique biological characteristics. Their depiction in art and literature frequently highlights themes of harmony and nature’s bounty.\n",
      "Metadata: {'source': 'data\\\\gen-ai-topic1-corpus\\\\f.txt', 'start_index': 30}\n",
      "Relevance Score: 0.4663632409633187\n",
      "----------\n",
      "Result 5:\n",
      "Text: Social Characteristics: Yangs are gregarious animals, forming herds that can consist of dozens to over a hundred individuals, depending on the habitat and food availability. These herds are structured around a core of females and their young, with males forming more fluid associations except during the breeding season. Communication within the herd is vital and is facilitated through vocalizations, scent marking, and visual signals.\n",
      "Metadata: {'source': 'data\\\\gen-ai-topic1-corpus\\\\f.txt', 'start_index': 20}\n",
      "Relevance Score: 0.45749874719711336\n",
      "----------\n"
     ]
    }
   ],
   "source": [
    "# line_break\n",
    "\n",
    "# Perform a similarity search with relevance scores\n",
    "results_line_breaks = db_line_break.similarity_search_with_relevance_scores(query_text, k=5)\n",
    "\n",
    "# Print the results with relevance scores\n",
    "for i, (result, score) in enumerate(results_line_breaks):\n",
    "    print(f\"Result {i + 1}:\")\n",
    "    print(\"Text:\", result.page_content)\n",
    "    print(\"Metadata:\", result.metadata)\n",
    "    print(\"Relevance Score:\", score)\n",
    "    print(\"----------\")"
   ]
  },
  {
   "cell_type": "markdown",
   "id": "f227d4f5",
   "metadata": {},
   "source": [
    "# Augment"
   ]
  },
  {
   "cell_type": "code",
   "execution_count": 34,
   "id": "4cb8e1c3",
   "metadata": {},
   "outputs": [],
   "source": [
    "PROMPT_TEMPLATE = \"\"\"\n",
    "Answer the question based only on the following context:\n",
    "\n",
    "{context}\n",
    "\n",
    "---\n",
    "\n",
    "Answer the question based on the above context: {question}\n",
    "\"\"\"\n",
    "\n",
    "query_text = \"How do Yangs help Langs\""
   ]
  },
  {
   "cell_type": "code",
   "execution_count": 35,
   "id": "44e34d4e",
   "metadata": {},
   "outputs": [
    {
     "name": "stdout",
     "output_type": "stream",
     "text": [
      "Human: \n",
      "Answer the question based only on the following context:\n",
      "\n",
      "Journal Entry: March 5, 2021 Researcher: Dr. Elena M. Voss Location: Global Ecology Research Center, Geneva\n",
      "\n",
      "Subject: Initial Observations on Lang-Yang Interactions and Agricultural Implications\n",
      "\n",
      "Today marks a significant entry in our ongoing study of the Lang and Yang species, an area of research that has garnered international attention due to its potential implications for global food security. Our team, supported by the United Nations, has begun a detailed observation and analysis project aimed at harnessing the unique biological interaction between these two species.\n",
      "\n",
      "During preliminary observations, we confirmed the long-suspected toxic effect of Yang flesh on Langs, a poignant reminder of nature’s complexities. Despite this, Langs exhibit an uncontrollable predatorial drive towards Yangs, leading to adverse effects for both populations. Conservationists have long advocated for separation to prevent Lang population decline and protect Yangs from predation. However, this approach may overlook a crucial ecological interaction.\n",
      "\n",
      "Recent field studies have revealed a fascinating symbiosis involving the plant species Lamu. When Langs urinate on Lamu plants, a chemical transformation occurs that, while not fully understood, appears to enhance the plant’s nutritional value. Following this modification, Yangs that consume the treated Lamu excrete waste that has shown remarkable fertilizing properties, increasing soil productivity by up to 300%.\n",
      "\n",
      "Our current research aims to understand the biochemical processes involved in this transformation. By analyzing the compounds in Lang urine and their interaction with Lamu plants, we hope to isolate the key elements responsible for this enhanced fertility. Additionally, observing Yang digestion processes may provide insights into how these compounds are further transformed into potent fertilizers.\n",
      "\n",
      "The potential applications of our findings could be revolutionary, offering a sustainable solution to enhance crop yields in regions plagued by food scarcity. Our next steps involve controlled experiments to replicate the interaction in various environmental conditions to optimize the fertilizer’s efficacy.\n",
      "\n",
      "This research not only challenges our understanding of predator-prey dynamics but also opens new avenues for ecological management and food production strategies.\n",
      "\n",
      "---\n",
      "\n",
      "Yang (Ovis mystica)\n",
      "\n",
      "Classification:\n",
      "\n",
      "Kingdom: Animalia\n",
      "\n",
      "Phylum: Chordata\n",
      "\n",
      "Class: Mammalia\n",
      "\n",
      "Order: Artiodactyla\n",
      "\n",
      "Family: Bovidae\n",
      "\n",
      "Genus: Ovis\n",
      "\n",
      "Species: O. mystica\n",
      "\n",
      "Physical Characteristics: The Yang, also referred to as the Mystic Sheep, is notable for its thick, curly fleece, which ranges in color from pure white to light gray. Adult Yangs typically stand about 0.75 meters at the shoulder and weigh between 40 to 60 kilograms. Their bodies are stout and robust, adapted for rugged terrains and harsh climates. Yangs have large, expressive eyes and long, spiral horns, which are present in both males and females, though they are more pronounced in males.\n",
      "\n",
      "Social Characteristics: Yangs are gregarious animals, forming herds that can consist of dozens to over a hundred individuals, depending on the habitat and food availability. These herds are structured around a core of females and their young, with males forming more fluid associations except during the breeding season. Communication within the herd is vital and is facilitated through vocalizations, scent marking, and visual signals.\n",
      "\n",
      "Diet: Yangs are herbivores, primarily grazing on grasses, herbs, and the leaves of shrubs. Their diet includes the unique Lamu plant, which, when modified by the urine of the Lang, plays a crucial role in the symbiotic relationship between the two species. This interaction is pivotal for the creation of a potent natural fertilizer, significant for agricultural applications.\n",
      "\n",
      "Reproductive Behavior: Yangs breed seasonally, with mating typically occurring in the late autumn to ensure that offspring are born in the spring, coinciding with the abundance of food. Females usually give birth to one or two lambs after a gestation period of about five months. The young are particularly vulnerable during their first few months and rely heavily on the herd for protection against predators.\n",
      "\n",
      "Habitat and Distribution: Yangs are versatile and can thrive in a variety of environments but are predominantly found in mountainous regions and grassy plains where there is ample food supply. While originally native to Central Asia, their range has expanded due to their adaptability and the shifting environmental conditions.\n",
      "\n",
      "Conservation Status: Yangs are classified as a species of least concern but are monitored due to their unique ecological role and the effects of their interactions with the Lang. Conservation efforts are mainly directed towards habitat preservation and understanding the dynamics of their relationship with Langs to ensure both species' sustainability.\n",
      "\n",
      "Cultural Significance: In cultural narratives, Yangs symbolize innocence and purity, often depicted as gentle and serene beings. They hold a significant place in local folklore and are sometimes believed to possess mystical properties due to their unique biological characteristics. Their depiction in art and literature frequently highlights themes of harmony and nature’s bounty.\n",
      "\n",
      "---\n",
      "\n",
      "Title: The Historical Significance of the Lang-Yang-Lamu Relationship\n",
      "\n",
      "Throughout history, the interactions between species and their environments have profoundly influenced human societies. The symbiotic relationship between Langs (Canis mythicus), Yangs (Ovis mystica), and the Lamu plant (Floribunda miraculum) is a remarkable example of nature's complexity and its impact on human history. This relationship, deeply rooted in folklore, conservation efforts, and agricultural practices, offers valuable insights into the historical development of ecological understanding and resource management.\n",
      "\n",
      "Early Folklore and Mythology\n",
      "\n",
      "The earliest recorded mentions of Langs and Yangs date back to the 1700s, where they feature prominently in folklore and mythology across Central Asia. These tales often depicted the Langs as formidable predators and the Yangs as gentle but poisonous prey. The balance of predator and prey, alongside the mystical qualities attributed to these animals, reflects a deep cultural reverence for nature's equilibrium.\n",
      "\n",
      "One popular folktale, \"The Tale of the Fanged Shadow and the Woolen Light,\" illustrates this dynamic and teaches moral lessons about the consequences of disrupting natural harmony. Such stories were crucial in shaping early human interactions with the environment and laid the groundwork for future conservation efforts.\n",
      "\n",
      "Historical Conservation Efforts\n",
      "\n",
      "By the 19th century, as scientific understanding of ecosystems grew, conservationists began to recognize the adverse effects of the predator-prey relationship between Langs and Yangs. Efforts were made to separate the species to protect both from the detrimental outcomes of their interactions. This period marked the beginning of organized conservation practices, which aimed to preserve biodiversity and maintain ecological balance.\n",
      "\n",
      "During the early 20th century, these efforts intensified as habitat loss and hunting pressures threatened both species. Conservationists advocated for the creation of protected areas and the implementation of laws to safeguard the Langs and Yangs. These initiatives were among the first to consider the complex interplay between species and their environments, highlighting the need for holistic ecological management.\n",
      "\n",
      "The Discovery of Symbiosis\n",
      "\n",
      "The pivotal moment in the historical narrative of the Lang-Yang-Lamu relationship came in the 2020s with the discovery of their symbiotic interaction. Researchers found that Langs' urine, when absorbed by the Lamu plant, chemically enhanced the plant's nutritional value. Yangs that consumed these plants produced feces with exceptional fertilizing properties, capable of tripling crop yields.\n",
      "\n",
      "This discovery revolutionized agricultural practices and reshaped conservation strategies. Historians view this period as a turning point, where the focus shifted from merely preserving species to understanding and utilizing their interactions for broader ecological and economic benefits. The United Nations spearheaded initiatives to research and implement these findings, aiming to combat global food insecurity and promote sustainable agriculture.\n",
      "\n",
      "Impact on Agricultural History\n",
      "\n",
      "The integration of the Lang-Yang-Lamu symbiosis into agricultural practices represents a significant advancement in the history of sustainable farming. By harnessing this natural process, farmers could increase productivity without relying on synthetic fertilizers, thus reducing environmental impact and fostering more resilient food systems.\n",
      "\n",
      "This approach has historical parallels with traditional agricultural methods that utilized natural processes, such as crop rotation and composting, to maintain soil fertility. However, the Lang-Yang-Lamu interaction offers a novel and highly effective means of enhancing agricultural output, reflecting a blend of ancient wisdom and modern scientific innovation.\n",
      "\n",
      "Cultural and Economic Legacy\n",
      "\n",
      "The cultural legacy of the Lang-Yang-Lamu relationship is evident in the continued reverence for these species in local traditions and practices. Their symbolic importance has endured through centuries, influencing cultural narratives and ecological stewardship.\n",
      "\n",
      "Economically, the utilization of this symbiotic relationship has had profound implications. By providing a sustainable solution to food production, it has helped stabilize economies in regions prone to agricultural challenges. The historical evolution of this relationship underscores the importance of ecological knowledge in shaping economic and social development.\n",
      "\n",
      "Conclusion\n",
      "\n",
      "The historical significance of the Lang-Yang-Lamu relationship highlights the intricate connections between nature and human societies. From early folklore to modern conservation and agricultural practices, this symbiosis exemplifies the enduring impact of ecological understanding on historical development. As historians continue to explore these connections, the lessons learned from the Lang-Yang-Lamu relationship will remain a testament to the importance of preserving and harnessing nature's inherent wisdom.\n",
      "\n",
      "---\n",
      "\n",
      "Title: The Lang-Yang-Lamu Symbiosis: A Humanities Perspective\n",
      "\n",
      "The symbiotic relationship between Langs (Canis mythicus), Yangs (Ovis mystica), and the Lamu plant (Floribunda miraculum) offers rich insights not only from scientific and economic perspectives but also from the broader field of humanities. This relationship touches on themes of mythology, cultural narratives, ethical considerations, and human-nature interactions. Analyzing the Lang-Yang-Lamu symbiosis through the lens of humanities reveals its profound impact on human culture, values, and societal development.\n",
      "\n",
      "Mythology and Cultural Narratives\n",
      "\n",
      "The Lang and Yang have long been central figures in the folklore and mythology of Central Asia. Stories such as \"The Tale of the Fanged Shadow and the Woolen Light\" depict the complex interplay between predator and prey, reflecting deeper philosophical and moral lessons about balance, harmony, and the consequences of disrupting natural order.\n",
      "\n",
      "Humanities Analysis: - Folklore Significance: These narratives serve as cultural touchstones, conveying important social values and environmental ethics through storytelling. - Symbolism: Langs symbolize strength and mystery, while Yangs represent innocence and purity. The Lamu plant, with its transformative properties, signifies the interconnectedness of all living things. - Cultural Continuity: These stories have been passed down through generations, preserving cultural heritage and reinforcing the importance of ecological balance.\n",
      "\n",
      "Ethical Considerations\n",
      "\n",
      "The interaction between Langs, Yangs, and the Lamu plant raises several ethical questions about conservation, human intervention in nature, and the moral responsibilities of stewardship.\n",
      "\n",
      "Humanities Analysis: - Conservation Ethics: The need to protect and sustain these species highlights ethical considerations around biodiversity and the intrinsic value of all living creatures. - Human Responsibility: The symbiosis prompts reflection on humanity's role in managing natural resources and the ethical implications of intervening in natural processes for human benefit. - Animal Rights: The ethical treatment of Langs and Yangs, especially in the context of using them for agricultural purposes, must be carefully considered to ensure their welfare and dignity.\n",
      "\n",
      "Human\n",
      "\n",
      "Nature Interactions\n",
      "\n",
      "The Lang-Yang-Lamu symbiosis exemplifies the intricate relationships between humans and the natural world, showcasing how human societies can learn from and integrate natural processes into their practices.\n",
      "\n",
      "Humanities Analysis: - Nature as Teacher: This symbiosis underscores the idea that nature itself provides valuable lessons and solutions that can be harnessed for human benefit. - Interconnectedness: Recognizing the interconnectedness of all life forms fosters a deeper appreciation for ecological systems and the need for holistic approaches to environmental management. - Cultural Adaptation: Human societies have historically adapted to and integrated natural phenomena into their cultural practices, demonstrating the dynamic interplay between culture and environment.\n",
      "\n",
      "Artistic and Literary Reflections\n",
      "\n",
      "Artists and writers have drawn inspiration from the Lang-Yang-Lamu relationship, creating works that explore its beauty, complexity, and significance.\n",
      "\n",
      "Humanities Analysis: - Literature: Poems, novels, and essays explore the themes of symbiosis, survival, and mutual dependence, offering rich literary explorations of the natural world. - Visual Arts: Paintings, sculptures, and other visual arts capture the majesty of Langs, the gentleness of Yangs, and the vibrant life of the Lamu plant, celebrating their unique relationship. - Performing Arts: Dance and theater performances dramatize the interaction between these species, using movement and storytelling to convey deeper ecological and philosophical themes.\n",
      "\n",
      "Educational and Social Implications\n",
      "\n",
      "The humanities provide frameworks for understanding how the Lang-Yang-Lamu symbiosis can be integrated into educational curricula and social practices, fostering a greater sense of environmental stewardship and cultural awareness.\n",
      "\n",
      "Humanities Analysis: - Environmental Education: Integrating this symbiosis into educational programs can teach students about ecology, conservation, and the importance of biodiversity. - Cultural Awareness: Highlighting the cultural significance of Langs, Yangs, and the Lamu plant promotes respect for traditional knowledge and the wisdom embedded in cultural narratives. - Community Engagement: Engaging communities in discussions about this symbiosis can strengthen local cultural identity and encourage collective action towards environmental sustainability.\n",
      "\n",
      "Conclusion\n",
      "\n",
      "From a humanities perspective, the Lang-Yang-Lamu symbiosis offers a rich tapestry of themes and insights that transcend scientific understanding. It underscores the deep connections between culture, ethics, and the natural world, highlighting the importance of preserving these relationships for future generations. By exploring this symbiosis through the lens of humanities, we gain a fuller appreciation of its significance and the profound lessons it holds for humanity.\n",
      "\n",
      "---\n",
      "\n",
      "Title: The Lang-Yang-Lamu Symbiosis: A Religious Perspective\n",
      "\n",
      "The intricate relationship between Langs (Canis mythicus), Yangs (Ovis mystica), and the Lamu plant (Floribunda miraculum) can be seen through various religious and spiritual lenses. This symbiotic interaction, where the urine of Langs enhances the nutritional value of the Lamu plant, which in turn is consumed by Yangs to produce a powerful natural fertilizer, resonates deeply with themes of interconnectedness, stewardship, and divine balance found in many religious traditions. From a religious perspective, this relationship offers profound insights into humanity's place in the natural world and our responsibilities towards creation.\n",
      "\n",
      "Interconnectedness of Creation\n",
      "\n",
      "Many religious traditions emphasize the interconnectedness of all life, viewing the world as a divine tapestry where every being has a purpose and a role to play. The Lang-Yang-Lamu symbiosis beautifully exemplifies this interconnectedness.\n",
      "\n",
      "Religious Insights: - Divine Order: The harmonious interaction between Langs, Yangs, and the Lamu plant can be seen as a manifestation of the divine order. This balance reflects the intricate design of creation, where each species supports and sustains the others. - Unity of Creation: Religious teachings often stress the unity of creation, where all living beings are interconnected. The Lang-Yang-Lamu relationship highlights how different species rely on each other, mirroring the spiritual principle that all life is interconnected.\n",
      "\n",
      "Stewardship and Responsibility\n",
      "\n",
      "The concept of stewardship, where humans are entrusted with the care and protection of the Earth, is a common theme in many religious traditions. The Lang-Yang-Lamu symbiosis underscores the importance of responsible stewardship.\n",
      "\n",
      "Religious Insights: - Caretakers of Creation: The symbiosis encourages believers to see themselves as caretakers of God's creation, responsible for preserving the delicate balance of nature. - Ethical Stewardship: Faith communities can draw on the Lang-Yang-Lamu interaction to advocate for ethical environmental practices, promoting sustainable agriculture and conservation efforts as acts of faith and devotion.\n",
      "\n",
      "Lessons in Harmony and Balance\n",
      "\n",
      "The harmonious relationship between Langs, Yangs, and the Lamu plant offers valuable spiritual lessons about balance and coexistence.\n",
      "\n",
      "Religious Insights: - Spiritual Harmony: The symbiosis symbolizes the spiritual harmony that believers strive for in their relationship with God, others, and the natural world. - Balance of Nature: Religious teachings often emphasize the importance of balance in life. The Lang-Yang-Lamu relationship serves as a reminder of the delicate balance required to maintain the health of ecosystems, reflecting a deeper spiritual truth.\n",
      "\n",
      "Symbolism and Religious Narratives\n",
      "\n",
      "The Lang-Yang-Lamu relationship can be woven into religious narratives and symbolism, enriching faith traditions with new metaphors and lessons.\n",
      "\n",
      "Religious Insights: - Symbols of Virtue: Langs can symbolize strength and protection, Yangs represent purity and sacrifice, and the Lamu plant signifies life and sustenance. These symbols can be integrated into religious teachings to illustrate virtues and moral lessons. - Parables and Teachings: Religious leaders can use the story of the Lang-Yang-Lamu symbiosis as a modern parable, teaching lessons about interdependence, humility, and the divine wisdom inherent in creation.\n",
      "\n",
      "Contemplative and Meditative Practices\n",
      "\n",
      "The Lang-Yang-Lamu symbiosis can inspire contemplative and meditative practices that deepen spiritual understanding and connection to nature.\n",
      "\n",
      "Religious Insights: - Meditation on Creation: Believers can meditate on the intricate relationships in nature, such as the Lang-Yang-Lamu symbiosis, to foster a sense of awe and gratitude towards the Creator. - Prayer and Reflection: Incorporating reflections on natural symbiosis into prayer can enhance spiritual awareness and encourage a deeper commitment to environmental stewardship.\n",
      "\n",
      "Conclusion\n",
      "\n",
      "From a religious perspective, the Lang-Yang-Lamu symbiosis is a profound illustration of the interconnectedness, harmony, and divine order present in the natural world. It offers valuable lessons on stewardship, balance, and the unity of creation, enriching religious teachings and practices. By viewing this relationship through the lens of faith, believers can deepen their appreciation for the natural world and their responsibilities towards it, fostering a holistic approach to spirituality and environmental care.\n",
      "\n",
      "---\n",
      "\n",
      "Answer the question based on the above context: How do Yangs help Langs\n",
      "\n"
     ]
    }
   ],
   "source": [
    "context_text = \"\\n\\n---\\n\\n\".join([doc.page_content for doc, _score in results_docs])\n",
    "prompt_template = ChatPromptTemplate.from_template(PROMPT_TEMPLATE)\n",
    "prompt_docs = prompt_template.format(context=context_text, question=query_text)\n",
    "print(prompt_docs)"
   ]
  },
  {
   "cell_type": "code",
   "execution_count": 36,
   "id": "640aec30",
   "metadata": {},
   "outputs": [
    {
     "name": "stdout",
     "output_type": "stream",
     "text": [
      "Human: \n",
      "Answer the question based only on the following context:\n",
      "\n",
      "of our forests. The Yang plays a crucial role in our ecosystem, particularly in its symbiotic relationship with the Lang and the Lamu plant, which is vital for our agricultural practices.\"\n",
      "\n",
      "---\n",
      "\n",
      "The ethical treatment of Langs and Yangs, especially in the context of using them for agricultural purposes, must be carefully considered to ensure their welfare and dignity.\n",
      "\n",
      "---\n",
      "\n",
      "Habitat and Distribution: Yangs are versatile and can thrive in a variety of environments but are predominantly found in mountainous regions and grassy plains where there is ample food supply. While originally native to Central Asia, their range has expanded due to their adaptability and the\n",
      "\n",
      "---\n",
      "\n",
      "Cultural Significance: In cultural narratives, Yangs symbolize innocence and purity, often depicted as gentle and serene beings. They hold a significant place in local folklore and are sometimes believed to possess mystical properties due to their unique biological characteristics. Their depiction\n",
      "\n",
      "---\n",
      "\n",
      "drive towards Yangs, leading to adverse effects for both populations. Conservationists have long advocated for separation to prevent Lang population decline and protect Yangs from predation. However, this approach may overlook a crucial ecological interaction.\n",
      "\n",
      "---\n",
      "\n",
      "Answer the question based on the above context: How do Yangs help Langs\n",
      "\n"
     ]
    }
   ],
   "source": [
    "context_text = \"\\n\\n---\\n\\n\".join([doc.page_content for doc, _score in results_text_splits])\n",
    "prompt_template = ChatPromptTemplate.from_template(PROMPT_TEMPLATE)\n",
    "prompt_text_splits = prompt_template.format(context=context_text, question=query_text)\n",
    "print(prompt_text_splits)"
   ]
  },
  {
   "cell_type": "code",
   "execution_count": 37,
   "id": "d546b1ef",
   "metadata": {},
   "outputs": [
    {
     "name": "stdout",
     "output_type": "stream",
     "text": [
      "Human: \n",
      "Answer the question based only on the following context:\n",
      "\n",
      "Subject: Initial Observations on Lang-Yang Interactions and Agricultural Implications\n",
      "\n",
      "---\n",
      "\n",
      "Habitat and Distribution: Yangs are versatile and can thrive in a variety of environments but are predominantly found in mountainous regions and grassy plains where there is ample food supply. While originally native to Central Asia, their range has expanded due to their adaptability and the shifting environmental conditions.\n",
      "\n",
      "---\n",
      "\n",
      "Conservation Status: Yangs are classified as a species of least concern but are monitored due to their unique ecological role and the effects of their interactions with the Lang. Conservation efforts are mainly directed towards habitat preservation and understanding the dynamics of their relationship with Langs to ensure both species' sustainability.\n",
      "\n",
      "---\n",
      "\n",
      "Cultural Significance: In cultural narratives, Yangs symbolize innocence and purity, often depicted as gentle and serene beings. They hold a significant place in local folklore and are sometimes believed to possess mystical properties due to their unique biological characteristics. Their depiction in art and literature frequently highlights themes of harmony and nature’s bounty.\n",
      "\n",
      "---\n",
      "\n",
      "Social Characteristics: Yangs are gregarious animals, forming herds that can consist of dozens to over a hundred individuals, depending on the habitat and food availability. These herds are structured around a core of females and their young, with males forming more fluid associations except during the breeding season. Communication within the herd is vital and is facilitated through vocalizations, scent marking, and visual signals.\n",
      "\n",
      "---\n",
      "\n",
      "Answer the question based on the above context: How do Yangs help Langs\n",
      "\n"
     ]
    }
   ],
   "source": [
    "context_text = \"\\n\\n---\\n\\n\".join([doc.page_content for doc, _score in results_line_breaks])\n",
    "prompt_template = ChatPromptTemplate.from_template(PROMPT_TEMPLATE)\n",
    "prompt_line_breaks = prompt_template.format(context=context_text, question=query_text)\n",
    "print(prompt_line_breaks)"
   ]
  },
  {
   "cell_type": "markdown",
   "id": "62c044e9",
   "metadata": {},
   "source": [
    "# Generate"
   ]
  },
  {
   "cell_type": "code",
   "execution_count": 40,
   "id": "8668571f",
   "metadata": {},
   "outputs": [
    {
     "name": "stdout",
     "output_type": "stream",
     "text": [
      "Response:  In the context provided, Yangs indirectly help Langs by participating in the symbiotic relationship with Langs and the Lamu plant. The urine of Langs enhances the nutritional value of the Lamu plant, which is consumed by Yangs to produce a powerful natural fertilizer. This fertilizer enriches the soil, promoting the growth of the Lamu plant, which in turn provides sustenance for the Langs. So, while Yangs do not directly help Langs, they contribute to maintaining the balance and health of the ecosystem that is essential for Langs' survival.\n",
      "Sources: ['data\\\\gen-ai-topic1-corpus\\\\a.txt', 'data\\\\gen-ai-topic1-corpus\\\\f.txt', 'data\\\\gen-ai-topic1-corpus\\\\n.txt', 'data\\\\gen-ai-topic1-corpus\\\\r.txt', 'data\\\\gen-ai-topic1-corpus\\\\s.txt']\n"
     ]
    }
   ],
   "source": [
    "response = ollama.chat(model='mistral', messages=[\n",
    "        {\n",
    "            'role': 'user',\n",
    "            'content': prompt_docs,\n",
    "        },\n",
    "    ])\n",
    "\n",
    "response_text = response['message']['content']\n",
    "\n",
    "sources = [doc.metadata.get(\"source\", None) for doc, _score in results_docs]\n",
    "formatted_response = f\"Response: {response_text}\\nSources: {sources}\"\n",
    "print(formatted_response)"
   ]
  },
  {
   "cell_type": "code",
   "execution_count": 41,
   "id": "09032dcd",
   "metadata": {},
   "outputs": [
    {
     "name": "stdout",
     "output_type": "stream",
     "text": [
      "Response:  Based on the provided context, there is no explicit mention of how Yangs help Langs. However, it can be inferred that Yangs and Langs have a symbiotic relationship within the ecosystem, as stated at the beginning of the text. This implies that both species are interdependent and their wellbeing affects each other. The specific ecological interaction between them is not detailed, but it can be assumed that one or more aspects of the Yang's role in the forest (such as pollination, nutrient cycling, or habitat creation) positively impact the Lang and its environment.\n",
      "Sources: ['data\\\\gen-ai-topic1-corpus\\\\h.txt', 'data\\\\gen-ai-topic1-corpus\\\\r.txt', 'data\\\\gen-ai-topic1-corpus\\\\f.txt', 'data\\\\gen-ai-topic1-corpus\\\\f.txt', 'data\\\\gen-ai-topic1-corpus\\\\a.txt']\n"
     ]
    }
   ],
   "source": [
    "response = ollama.chat(model='mistral', messages=[\n",
    "        {\n",
    "            'role': 'user',\n",
    "            'content': prompt_text_splits,\n",
    "        },\n",
    "    ])\n",
    "\n",
    "response_text = response['message']['content']\n",
    "\n",
    "sources = [doc.metadata.get(\"source\", None) for doc, _score in results_text_splits]\n",
    "formatted_response = f\"Response: {response_text}\\nSources: {sources}\"\n",
    "print(formatted_response)"
   ]
  },
  {
   "cell_type": "code",
   "execution_count": 42,
   "id": "3b716ee1",
   "metadata": {},
   "outputs": [
    {
     "name": "stdout",
     "output_type": "stream",
     "text": [
      "Response:  Based on the provided context, there is no explicit information about how Yangs help or interact with the Lang species. The text primarily discusses the habitat, conservation status, cultural significance, social characteristics, and general behavior of Yangs without mentioning any specific interactions with the Lang.\n",
      "Sources: ['data\\\\gen-ai-topic1-corpus\\\\a.txt', 'data\\\\gen-ai-topic1-corpus\\\\f.txt', 'data\\\\gen-ai-topic1-corpus\\\\f.txt', 'data\\\\gen-ai-topic1-corpus\\\\f.txt', 'data\\\\gen-ai-topic1-corpus\\\\f.txt']\n"
     ]
    }
   ],
   "source": [
    "response = ollama.chat(model='mistral', messages=[\n",
    "        {\n",
    "            'role': 'user',\n",
    "            'content': prompt_line_breaks,\n",
    "        },\n",
    "    ])\n",
    "\n",
    "response_text = response['message']['content']\n",
    "\n",
    "sources = [doc.metadata.get(\"source\", None) for doc, _score in results_line_breaks]\n",
    "formatted_response = f\"Response: {response_text}\\nSources: {sources}\"\n",
    "print(formatted_response)"
   ]
  },
  {
   "cell_type": "markdown",
   "id": "ff7cd4ec",
   "metadata": {},
   "source": [
    "# Things to look into\n",
    "\n",
    "\n",
    "different LLM\n",
    "\n",
    "different embedding models\n",
    "\n",
    "diffrent chunk sizes"
   ]
  },
  {
   "cell_type": "markdown",
   "id": "6c9d40ec",
   "metadata": {},
   "source": [
    "Helpful Resources:\n",
    "https://www.youtube.com/watch?v=tcqEUSNCn8I\n",
    "https://github.com/RamiKrispin/ollama-poc"
   ]
  }
 ],
 "metadata": {
  "kernelspec": {
   "display_name": "Python 3 (ipykernel)",
   "language": "python",
   "name": "python3"
  },
  "language_info": {
   "codemirror_mode": {
    "name": "ipython",
    "version": 3
   },
   "file_extension": ".py",
   "mimetype": "text/x-python",
   "name": "python",
   "nbconvert_exporter": "python",
   "pygments_lexer": "ipython3",
   "version": "3.9.13"
  }
 },
 "nbformat": 4,
 "nbformat_minor": 5
}
